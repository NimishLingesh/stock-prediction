{
 "cells": [
  {
   "cell_type": "code",
   "execution_count": null,
   "metadata": {},
   "outputs": [],
   "source": [
    "import pandas as pd\n",
    "import numpy as np"
   ]
  }
 ],
 "metadata": {
  "language_info": {
   "name": "python"
  },
  "orig_nbformat": 4
 },
 "nbformat": 4,
 "nbformat_minor": 2
}


import pandas as pd
import numpy as np

# Reading the data in pandas dataframe
data = pd.read_csv("/content/stock_list.csv")

# Information of the dataframe
data.info()

data['SecuritiesCode'].value_counts()
data['SecuritiesCode'].describe()

data['Name'].describe()
data['Name'].value_counts()

data['Section/Products'].describe()
data['Section/Products'].value_counts()

data['17SectorCode'].describe()
data['17SectorCode'].value_counts()

data['NewIndexSeriesSizeCode'].describe()
data['NewIndexSeriesSizeCode'].value_counts()

data['TradeDate'].describe()
data['TradeDate'].value_counts()

data['NewMarketSegment'].describe()
data['NewMarketSegment'].value_counts()

data['33SectorCode'].describe()
data['33SectorCode'].value_counts()

data['33SectorName'].describe()
data['33SectorName'].value_counts()

data['Close'].describe()
data['Close'].value_counts()

data['IssuedShares'].describe()
data['IssuedShares'].value_counts()

data['MarketCapitalization'].describe()
data['MarketCapitalization'].value_counts()