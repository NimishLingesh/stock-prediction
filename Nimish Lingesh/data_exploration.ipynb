{
 "cells": [
  {
   "cell_type": "code",
   "execution_count": 5,
   "metadata": {},
   "outputs": [
    {
     "data": {
      "text/html": [
       "<div>\n",
       "<style scoped>\n",
       "    .dataframe tbody tr th:only-of-type {\n",
       "        vertical-align: middle;\n",
       "    }\n",
       "\n",
       "    .dataframe tbody tr th {\n",
       "        vertical-align: top;\n",
       "    }\n",
       "\n",
       "    .dataframe thead th {\n",
       "        text-align: right;\n",
       "    }\n",
       "</style>\n",
       "<table border=\"1\" class=\"dataframe\">\n",
       "  <thead>\n",
       "    <tr style=\"text-align: right;\">\n",
       "      <th></th>\n",
       "      <th>SecuritiesCode</th>\n",
       "      <th>EffectiveDate</th>\n",
       "      <th>Name</th>\n",
       "      <th>Section/Products</th>\n",
       "      <th>NewMarketSegment</th>\n",
       "      <th>33SectorCode</th>\n",
       "      <th>33SectorName</th>\n",
       "      <th>17SectorCode</th>\n",
       "      <th>17SectorName</th>\n",
       "      <th>NewIndexSeriesSizeCode</th>\n",
       "      <th>NewIndexSeriesSize</th>\n",
       "      <th>TradeDate</th>\n",
       "      <th>Close</th>\n",
       "      <th>IssuedShares</th>\n",
       "      <th>MarketCapitalization</th>\n",
       "      <th>Universe0</th>\n",
       "    </tr>\n",
       "  </thead>\n",
       "  <tbody>\n",
       "    <tr>\n",
       "      <th>0</th>\n",
       "      <td>1301</td>\n",
       "      <td>20211230</td>\n",
       "      <td>KYOKUYO CO.,LTD.</td>\n",
       "      <td>First Section (Domestic)</td>\n",
       "      <td>Prime Market</td>\n",
       "      <td>50</td>\n",
       "      <td>Fishery, Agriculture and Forestry</td>\n",
       "      <td>1</td>\n",
       "      <td>FOODS</td>\n",
       "      <td>7</td>\n",
       "      <td>TOPIX Small 2</td>\n",
       "      <td>20211230.0</td>\n",
       "      <td>3080.0</td>\n",
       "      <td>1.092828e+07</td>\n",
       "      <td>3.365911e+10</td>\n",
       "      <td>True</td>\n",
       "    </tr>\n",
       "    <tr>\n",
       "      <th>1</th>\n",
       "      <td>1305</td>\n",
       "      <td>20211230</td>\n",
       "      <td>Daiwa ETF-TOPIX</td>\n",
       "      <td>ETFs/ ETNs</td>\n",
       "      <td>NaN</td>\n",
       "      <td>-</td>\n",
       "      <td>-</td>\n",
       "      <td>-</td>\n",
       "      <td>-</td>\n",
       "      <td>-</td>\n",
       "      <td>-</td>\n",
       "      <td>20211230.0</td>\n",
       "      <td>2097.0</td>\n",
       "      <td>3.634636e+09</td>\n",
       "      <td>7.621831e+12</td>\n",
       "      <td>False</td>\n",
       "    </tr>\n",
       "    <tr>\n",
       "      <th>2</th>\n",
       "      <td>1306</td>\n",
       "      <td>20211230</td>\n",
       "      <td>NEXT FUNDS TOPIX Exchange Traded Fund</td>\n",
       "      <td>ETFs/ ETNs</td>\n",
       "      <td>NaN</td>\n",
       "      <td>-</td>\n",
       "      <td>-</td>\n",
       "      <td>-</td>\n",
       "      <td>-</td>\n",
       "      <td>-</td>\n",
       "      <td>-</td>\n",
       "      <td>20211230.0</td>\n",
       "      <td>2073.5</td>\n",
       "      <td>7.917718e+09</td>\n",
       "      <td>1.641739e+13</td>\n",
       "      <td>False</td>\n",
       "    </tr>\n",
       "    <tr>\n",
       "      <th>3</th>\n",
       "      <td>1308</td>\n",
       "      <td>20211230</td>\n",
       "      <td>Nikko Exchange Traded Index Fund TOPIX</td>\n",
       "      <td>ETFs/ ETNs</td>\n",
       "      <td>NaN</td>\n",
       "      <td>-</td>\n",
       "      <td>-</td>\n",
       "      <td>-</td>\n",
       "      <td>-</td>\n",
       "      <td>-</td>\n",
       "      <td>-</td>\n",
       "      <td>20211230.0</td>\n",
       "      <td>2053.0</td>\n",
       "      <td>3.736943e+09</td>\n",
       "      <td>7.671945e+12</td>\n",
       "      <td>False</td>\n",
       "    </tr>\n",
       "    <tr>\n",
       "      <th>4</th>\n",
       "      <td>1309</td>\n",
       "      <td>20211230</td>\n",
       "      <td>NEXT FUNDS ChinaAMC SSE50 Index Exchange Trade...</td>\n",
       "      <td>ETFs/ ETNs</td>\n",
       "      <td>NaN</td>\n",
       "      <td>-</td>\n",
       "      <td>-</td>\n",
       "      <td>-</td>\n",
       "      <td>-</td>\n",
       "      <td>-</td>\n",
       "      <td>-</td>\n",
       "      <td>20211230.0</td>\n",
       "      <td>44280.0</td>\n",
       "      <td>7.263200e+04</td>\n",
       "      <td>3.216145e+09</td>\n",
       "      <td>False</td>\n",
       "    </tr>\n",
       "  </tbody>\n",
       "</table>\n",
       "</div>"
      ],
      "text/plain": [
       "   SecuritiesCode  EffectiveDate  \\\n",
       "0            1301       20211230   \n",
       "1            1305       20211230   \n",
       "2            1306       20211230   \n",
       "3            1308       20211230   \n",
       "4            1309       20211230   \n",
       "\n",
       "                                                Name  \\\n",
       "0                                   KYOKUYO CO.,LTD.   \n",
       "1                                    Daiwa ETF-TOPIX   \n",
       "2              NEXT FUNDS TOPIX Exchange Traded Fund   \n",
       "3             Nikko Exchange Traded Index Fund TOPIX   \n",
       "4  NEXT FUNDS ChinaAMC SSE50 Index Exchange Trade...   \n",
       "\n",
       "           Section/Products NewMarketSegment 33SectorCode  \\\n",
       "0  First Section (Domestic)     Prime Market           50   \n",
       "1                ETFs/ ETNs              NaN            -   \n",
       "2                ETFs/ ETNs              NaN            -   \n",
       "3                ETFs/ ETNs              NaN            -   \n",
       "4                ETFs/ ETNs              NaN            -   \n",
       "\n",
       "                        33SectorName 17SectorCode 17SectorName  \\\n",
       "0  Fishery, Agriculture and Forestry            1       FOODS    \n",
       "1                                  -            -            -   \n",
       "2                                  -            -            -   \n",
       "3                                  -            -            -   \n",
       "4                                  -            -            -   \n",
       "\n",
       "  NewIndexSeriesSizeCode NewIndexSeriesSize   TradeDate    Close  \\\n",
       "0                      7      TOPIX Small 2  20211230.0   3080.0   \n",
       "1                      -                  -  20211230.0   2097.0   \n",
       "2                      -                  -  20211230.0   2073.5   \n",
       "3                      -                  -  20211230.0   2053.0   \n",
       "4                      -                  -  20211230.0  44280.0   \n",
       "\n",
       "   IssuedShares  MarketCapitalization  Universe0  \n",
       "0  1.092828e+07          3.365911e+10       True  \n",
       "1  3.634636e+09          7.621831e+12      False  \n",
       "2  7.917718e+09          1.641739e+13      False  \n",
       "3  3.736943e+09          7.671945e+12      False  \n",
       "4  7.263200e+04          3.216145e+09      False  "
      ]
     },
     "execution_count": 5,
     "metadata": {},
     "output_type": "execute_result"
    }
   ],
   "source": [
    "import numpy as np\n",
    "import pandas as pd\n",
    "\n",
    "df = pd.read_csv(\"../stock_list.csv\")\n",
    "df.head()"
   ]
  },
  {
   "cell_type": "code",
   "execution_count": 6,
   "metadata": {},
   "outputs": [
    {
     "data": {
      "text/plain": [
       "Index(['SecuritiesCode', 'EffectiveDate', 'Name', 'Section/Products',\n",
       "       'NewMarketSegment', '33SectorCode', '33SectorName', '17SectorCode',\n",
       "       '17SectorName', 'NewIndexSeriesSizeCode', 'NewIndexSeriesSize',\n",
       "       'TradeDate', 'Close', 'IssuedShares', 'MarketCapitalization',\n",
       "       'Universe0'],\n",
       "      dtype='object')"
      ]
     },
     "execution_count": 6,
     "metadata": {},
     "output_type": "execute_result"
    }
   ],
   "source": [
    "df.columns"
   ]
  },
  {
   "cell_type": "code",
   "execution_count": 8,
   "metadata": {},
   "outputs": [
    {
     "data": {
      "text/plain": [
       "SecuritiesCode              0\n",
       "EffectiveDate               0\n",
       "Name                        0\n",
       "Section/Products            0\n",
       "NewMarketSegment          645\n",
       "33SectorCode                0\n",
       "33SectorName                0\n",
       "17SectorCode                0\n",
       "17SectorName                0\n",
       "NewIndexSeriesSizeCode      0\n",
       "NewIndexSeriesSize          0\n",
       "TradeDate                 296\n",
       "Close                     296\n",
       "IssuedShares              296\n",
       "MarketCapitalization      296\n",
       "Universe0                   0\n",
       "dtype: int64"
      ]
     },
     "execution_count": 8,
     "metadata": {},
     "output_type": "execute_result"
    }
   ],
   "source": [
    "df.isna().sum()"
   ]
  },
  {
   "cell_type": "code",
   "execution_count": 11,
   "metadata": {},
   "outputs": [
    {
     "data": {
      "text/plain": [
       "Prime Market                       1839\n",
       "Standard Market                    1466\n",
       "Growth Market                       461\n",
       "Growth Market (Foreign Stock)         3\n",
       "Standard Market (Foreign Stock)       2\n",
       "Prime Market (Foreign Stock)          1\n",
       "Name: NewMarketSegment, dtype: int64"
      ]
     },
     "execution_count": 11,
     "metadata": {},
     "output_type": "execute_result"
    }
   ],
   "source": [
    "import matplotlib.pyplot as plt\n",
    "df['NewMarketSegment'].value_counts()"
   ]
  },
  {
   "cell_type": "code",
   "execution_count": 19,
   "metadata": {},
   "outputs": [
    {
     "data": {
      "text/plain": [
       "6.000000e+06    7\n",
       "2.000000e+06    6\n",
       "6.000000e+04    6\n",
       "5.500000e+06    5\n",
       "1.000000e+05    5\n",
       "               ..\n",
       "1.655446e+09    1\n",
       "1.397297e+07    1\n",
       "9.362000e+05    1\n",
       "4.116400e+06    1\n",
       "3.424696e+07    1\n",
       "Name: IssuedShares, Length: 4011, dtype: int64"
      ]
     },
     "execution_count": 19,
     "metadata": {},
     "output_type": "execute_result"
    }
   ],
   "source": [
    "df['IssuedShares'].value_counts()"
   ]
  },
  {
   "cell_type": "code",
   "execution_count": 12,
   "metadata": {},
   "outputs": [
    {
     "data": {
      "text/plain": [
       "20211230.0    4049\n",
       "20211229.0      37\n",
       "20211228.0      18\n",
       "20211227.0       6\n",
       "20211220.0       3\n",
       "20211221.0       2\n",
       "20211222.0       2\n",
       "20211223.0       2\n",
       "20211216.0       1\n",
       "20211224.0       1\n",
       "Name: TradeDate, dtype: int64"
      ]
     },
     "execution_count": 12,
     "metadata": {},
     "output_type": "execute_result"
    }
   ],
   "source": [
    "df['TradeDate'].value_counts()"
   ]
  },
  {
   "cell_type": "code",
   "execution_count": 20,
   "metadata": {},
   "outputs": [
    {
     "data": {
      "text/plain": [
       "(array([4.087e+03, 2.200e+01, 7.000e+00, 0.000e+00, 2.000e+00, 0.000e+00,\n",
       "        1.000e+00, 0.000e+00, 1.000e+00, 1.000e+00]),\n",
       " array([2.24200000e+03, 1.63150076e+09, 3.26299929e+09, 4.89449781e+09,\n",
       "        6.52599633e+09, 8.15749485e+09, 9.78899337e+09, 1.14204919e+10,\n",
       "        1.30519904e+10, 1.46834889e+10, 1.63149875e+10]),\n",
       " <BarContainer object of 10 artists>)"
      ]
     },
     "execution_count": 20,
     "metadata": {},
     "output_type": "execute_result"
    },
    {
     "data": {
      "image/png": "[encoded data removed]",
      "text/plain": [
       "<Figure size 640x480 with 1 Axes>"
      ]
     },
     "metadata": {},
     "output_type": "display_data"
    }
   ],
   "source": [
    "plt.hist(df['IssuedShares'])"
   ]
  },
  {
   "cell_type": "code",
   "execution_count": 24,
   "metadata": {},
   "outputs": [
    {
     "data": {
      "text/plain": [
       "Information & Communication                      551\n",
       "Services                                         521\n",
       "-                                                500\n",
       "Retail Trade                                     359\n",
       "Wholesale Trade                                  320\n",
       "Electric Appliances                              255\n",
       "Machinery                                        230\n",
       "Chemicals                                        218\n",
       "Construction                                     170\n",
       "Real Estate                                      143\n",
       "Foods                                            125\n",
       "Other Products                                   116\n",
       "Transportation Equipment                          95\n",
       "Banks                                             93\n",
       "Metal Products                                    90\n",
       "Pharmaceutical                                    77\n",
       "Land Transportation                               62\n",
       "Glass and Ceramics Products                       56\n",
       "Textiles and Apparels                             52\n",
       "Precision Instruments                             50\n",
       "Securities and Commodities Futures                44\n",
       "Iron and Steel                                    44\n",
       "Warehousing and Harbor Transportation Service     39\n",
       "Other Financing Business                          38\n",
       "Nonferrous Metals                                 36\n",
       "Electric Power and Gas                            25\n",
       "Pulp and Paper                                    24\n",
       "Rubber Products                                   19\n",
       "Insurance                                         15\n",
       "Oil and Coal Products                             13\n",
       "Marine Transportation                             13\n",
       "Fishery, Agriculture and Forestry                 12\n",
       "Mining                                             7\n",
       "Air Transportation                                 5\n",
       "Name: 33SectorName, dtype: int64"
      ]
     },
     "execution_count": 24,
     "metadata": {},
     "output_type": "execute_result"
    }
   ],
   "source": [
    "df['33SectorName'].value_counts()"
   ]
  },
  {
   "cell_type": "code",
   "execution_count": 25,
   "metadata": {},
   "outputs": [
    {
     "data": {
      "text/plain": [
       "34"
      ]
     },
     "execution_count": 25,
     "metadata": {},
     "output_type": "execute_result"
    }
   ],
   "source": [
    "len(df['33SectorName'].value_counts())"
   ]
  },
  {
   "cell_type": "code",
   "execution_count": null,
   "metadata": {},
   "outputs": [],
   "source": []
  }
 ],
 "metadata": {
  "kernelspec": {
   "display_name": "Python 3.8.9 64-bit",
   "language": "python",
   "name": "python3"
  },
  "language_info": {
   "codemirror_mode": {
    "name": "ipython",
    "version": 3
   },
   "file_extension": ".py",
   "mimetype": "text/x-python",
   "name": "python",
   "nbconvert_exporter": "python",
   "pygments_lexer": "ipython3",
   "version": "3.8.9"
  },
  "orig_nbformat": 4,
  "vscode": {
   "interpreter": {
    "hash": "31f2aee4e71d21fbe5cf8b01ff0e069b9275f58929596ceb00d14d90e3e16cd6"
   }
  }
 },
 "nbformat": 4,
 "nbformat_minor": 2
}
